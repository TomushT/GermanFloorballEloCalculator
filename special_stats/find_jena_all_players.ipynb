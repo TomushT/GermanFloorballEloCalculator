{
 "cells": [
  {
   "cell_type": "markdown",
   "id": "eb11cc4d",
   "metadata": {},
   "source": [
    "Find all players which played at least one game in teams _USV Jena_, _Floorball Pinguine Jena_, or _SG Saalemädels_ and find their statistics"
   ]
  },
  {
   "cell_type": "code",
   "execution_count": null,
   "id": "d57b2101",
   "metadata": {},
   "outputs": [],
   "source": [
    "import pandas as pd\n",
    "import datetime as dt\n",
    "\n",
    "def find_season_simple(league_id, leagues):\n",
    "    league = leagues[leagues['id']==league_id]\n",
    "    name = league['name'].iloc[0]\n",
    "    iseason = int(league['season'].iloc[0])\n",
    "    season = f\"{iseason+8}/{iseason+9}\"\n",
    "    return name, season\n",
    "\n",
    "leagues = pd.read_pickle(\"leagues.pkl\")\n",
    "players = pd.read_pickle(\"players.pkl\")\n",
    "matches = pd.read_pickle(\"matches.pkl\")"
   ]
  },
  {
   "cell_type": "code",
   "execution_count": null,
   "id": "b8aba747",
   "metadata": {},
   "outputs": [],
   "source": [
    "# USV Jena\n",
    "usvjena = players[(players['team_name'] == 'USV Jena' ) | (players['team_name'] == 'Floorball Pinguine Jena' )\n",
    "               | (players['team_name'] == 'SG Saalemädels')] \n",
    "# Players only\n",
    "players_usvjena = usvjena[['first_name','last_name']].drop_duplicates()\n",
    "for ir,row in players_usvjena.iterrows():\n",
    "    print(row['first_name'], row['last_name'])"
   ]
  },
  {
   "cell_type": "code",
   "execution_count": null,
   "id": "bdfc15af",
   "metadata": {},
   "outputs": [],
   "source": [
    "# Sum all leagues for each player\n",
    "jenalist = []\n",
    "for ir, jenarow in players_usvjena.iterrows():\n",
    "    first_name = jenarow['first_name']\n",
    "    last_name = jenarow['last_name']\n",
    "    playerstats = players[(players['first_name'] == first_name) & \n",
    "                       (players['last_name'] == last_name)]\n",
    "    games_tot = playerstats['games'].sum()\n",
    "    goals_tot = playerstats['goals'].sum()\n",
    "    ass_tot = playerstats['assists'].sum()\n",
    "    penalty_tot = playerstats['penalty_2'].sum()*2 + playerstats['penalty_2and2'].sum()*4 \n",
    "    + playerstats['penalty_5'].sum()*5 + playerstats['penalty_10'].sum()*10\n",
    "    + playerstats['penalty_ms_tech'].sum()*20 + playerstats['penalty_ms_full'].sum()*20\n",
    "    + playerstats['penalty_ms1'].sum()*20 + playerstats['penalty_ms2'].sum()*20\n",
    "    + playerstats['penalty_ms3'].sum()*20\n",
    "    points_tot = goals_tot + ass_tot\n",
    "    \n",
    "    jenadict = {'Vorname': first_name, 'Nachname': last_name, \n",
    "                'Saison': \"Total\",\n",
    "                'Spiele': int(games_tot), 'Tore': int(goals_tot), 'Vorlagen': int(ass_tot), \n",
    "                'Punkte': int(goals_tot)+int(ass_tot), 'Strafminuten': int(penalty_tot), \n",
    "                'Tore pro Spiel': float(goals_tot)/games_tot, \n",
    "                'Vorlagen pro Spiel': float(ass_tot)/games_tot, \n",
    "                'Punkte pro Spiel': float(goals_tot+ass_tot)/games_tot, \n",
    "                'Strafminuten pro Spiel': float(penalty_tot)/games_tot\n",
    "               }\n",
    "    \n",
    "    for iir, playerrow in playerstats.iterrows():\n",
    "            league_id = playerrow['league_id']\n",
    "            league, season = find_season_simple(league_id,leagues)\n",
    "            team = playerrow['team_name']\n",
    "            games = playerrow['games']\n",
    "            goals = playerrow['goals']\n",
    "            assists = playerrow['assists']\n",
    "            points = goals+assists\n",
    "            penalty = playerrow['penalty_2']*2 + playerrow['penalty_2and2']*4 + playerrow['penalty_5']*5\n",
    "            + playerrow['penalty_10']*10 + playerrow['penalty_ms_tech']*20 + playerrow['penalty_ms_full']*20\n",
    "            + playerrow['penalty_ms1']*20 + playerrow['penalty_ms2']*20 + playerrow['penalty_ms3']*20\n",
    "            datadict = {'Vorname': first_name, 'Nachname': last_name,\n",
    "                        'Liga': league, 'Saison': season, 'Team': team, 'Spiele': int(games), \n",
    "                        'Tore': int(goals), 'Vorlagen': int(assists), \n",
    "                        'Punkte': int(goals)+int(assists), 'Strafminuten': int(penalty), \n",
    "                        'Tore pro Spiel': float(goals)/games, \n",
    "                        'Vorlagen pro Spiel': float(assists)/games, \n",
    "                        'Punkte pro Spiel': float(goals+assists)/games, \n",
    "                        'Strafminuten pro Spiel': float(penalty)/games}\n",
    "            jenalist.append(datadict)\n",
    "            \n",
    "    jenalist.append(jenadict)\n",
    "\n",
    "jenadf = pd.DataFrame(jenalist)\n",
    "jenadf_sorted = jenadf.sort_values(['Nachname','Vorname','Saison'],ascending = [True,True,True])\n",
    "jenadf_sorted"
   ]
  },
  {
   "cell_type": "code",
   "execution_count": null,
   "id": "541c2de5",
   "metadata": {},
   "outputs": [],
   "source": [
    "jenadf_sorted.to_csv('jenaspieler.csv')"
   ]
  }
 ],
 "metadata": {
  "kernelspec": {
   "display_name": "Python 3 (ipykernel)",
   "language": "python",
   "name": "python3"
  },
  "language_info": {
   "codemirror_mode": {
    "name": "ipython",
    "version": 3
   },
   "file_extension": ".py",
   "mimetype": "text/x-python",
   "name": "python",
   "nbconvert_exporter": "python",
   "pygments_lexer": "ipython3",
   "version": "3.8.12"
  }
 },
 "nbformat": 4,
 "nbformat_minor": 5
}
