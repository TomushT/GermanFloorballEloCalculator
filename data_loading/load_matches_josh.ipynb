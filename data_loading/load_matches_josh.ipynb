{
 "cells": [
  {
   "cell_type": "code",
   "execution_count": null,
   "id": "d57b2101",
   "metadata": {},
   "outputs": [],
   "source": [
    "import itertools\n",
    "import httpx\n",
    "import pandas as pd\n",
    "\n",
    "API_URL = \"https://saisonmanager.de/api/v2\"\n",
    "\n",
    "leagues_url = API_URL + \"/leagues.json\"\n",
    "league_url = API_URL + \"/leagues/{league_id}.json\"\n",
    "standings_url = API_URL + \"/leagues/{league_id}/table.json\"\n",
    "scorers_url = API_URL + \"/leagues/{league_id}/scorer.json\"\n",
    "schedule_url = API_URL + \"/leagues/{league_id}/schedule.json\"\n",
    "game_url = API_URL + \"/games/{game_id}.json\""
   ]
  },
  {
   "cell_type": "code",
   "execution_count": null,
   "id": "3592139d",
   "metadata": {},
   "outputs": [],
   "source": [
    "leagues = pd.read_json(leagues_url)\n",
    "\n",
    "# filter competitions by name (hopefully doesn't filter out something by accident)\n",
    "leagues = leagues[\n",
    "    (leagues.game_operation == \"Floorball Deutschland\")\n",
    "    & (~leagues.name.str.contains(\"damen\", case=False))\n",
    "    & (~leagues.name.str.contains(\"junior\", case=False))\n",
    "    & (~leagues.name.str.contains(\"kleinfeld\", case=False))\n",
    "    & (~leagues.name.str.contains(\"KF\", case=False))\n",
    "    & (~leagues.name.str.contains(\"regio\", case=False))\n",
    "    & (~leagues.name.str.contains(\"pokal\", case=False))\n",
    "    & (~leagues.name.str.contains(\"rl\", case=False))    \n",
    "]\n",
    "\n",
    "# sort\n",
    "leagues.sort_values(by=\"season\", ascending=False)\n",
    "\n",
    "# export to csv\n",
    "leagues_for_export=leagues[[\"id\",\"name\"]]\n",
    "leagues_for_export.to_csv(\"v2_leagues.csv\")"
   ]
  },
  {
   "cell_type": "code",
   "execution_count": null,
   "id": "26e6dbcd",
   "metadata": {},
   "outputs": [],
   "source": [
    "# collect schedule data for the leagues; need to check that the URL can\n",
    "# be reached beforehand because a few fail with a 500 Internal Server Error\n",
    "schedules = {\n",
    "    league_id: pd.read_json(schedule_url.format(league_id=league_id))\n",
    "    for league_id in leagues.id\n",
    "    if httpx.head(schedule_url.format(league_id=league_id)).is_success\n",
    "}"
   ]
  },
  {
   "cell_type": "code",
   "execution_count": null,
   "id": "fa3d0706",
   "metadata": {},
   "outputs": [],
   "source": [
    "# create additional column containing league ids\n",
    "league_ids = pd.Series(\n",
    "    itertools.chain(\n",
    "        *[\n",
    "            itertools.repeat(league_id, len(schedule))\n",
    "            for league_id, schedule in schedules.items()\n",
    "        ]\n",
    "    ),\n",
    "    name=\"league_id\",\n",
    ")\n",
    "\n",
    "# create matches dataframe from the combined schedules\n",
    "matches = pd.concat(schedules.values(), ignore_index=True)\n",
    "\n",
    "# unpack the JSON strings in the result column into a dataframe\n",
    "results = pd.json_normalize(matches[\"result\"])\n",
    "\n",
    "# use nullable integer type\n",
    "results[\"home_goals\"] = results[\"home_goals\"].astype(\"Int64\")\n",
    "results[\"guest_goals\"] = results[\"guest_goals\"].astype(\"Int64\")\n",
    "\n",
    "# remove JSON result column\n",
    "matches = matches.drop(columns=[\"result\"])\n",
    "\n",
    "# combine the three dataframes into one with all the columns\n",
    "matches = pd.concat([league_ids, results, matches.reset_index()], axis=\"columns\")\n",
    "\n",
    "# smaller dataframe\n",
    "matches_small = matches[[\"league_id\",\"game_id\",\"date\",\"home_team_name\",\"guest_team_name\",\"home_goals\",\"guest_goals\",\"overtime\",\"forfait\",\"ended\"]][matches[\"ended\"]==True]\n",
    "matches_small['date']=pd.to_datetime(matches_small['date'],dayfirst=False,format=\"%Y-%m-%d\")\n",
    "\n",
    "# sort by date\n",
    "matches_small_sorted=matches_small.sort_values(by='date')\n",
    "matches_small_sorted\n",
    "\n",
    "# export\n",
    "matches_small_sorted.to_csv(\"v2_matches.csv\")"
   ]
  },
  {
   "cell_type": "code",
   "execution_count": null,
   "id": "bdfc15af",
   "metadata": {},
   "outputs": [],
   "source": [
    "# Find individual teams\n",
    "t1df=matches_small_sorted['home_team_name']\n",
    "t1df.rename_axis('Team')\n",
    "t2df=matches_small_sorted['guest_team_name']\n",
    "teams=pd.concat([t1df,t2df],ignore_index=True)\n",
    "indiv_teams = teams.unique()\n",
    "indiv_teams.sort()\n",
    "print(indiv_teams)\n",
    "\n",
    "fout = open(\"v2_teams.csv\",\"w\")\n",
    "for team in indiv_teams:\n",
    "    fout.write(f\"{team}\\n\")\n",
    "fout.close()"
   ]
  }
 ],
 "metadata": {
  "kernelspec": {
   "display_name": "Python 3 (ipykernel)",
   "language": "python",
   "name": "python3"
  },
  "language_info": {
   "codemirror_mode": {
    "name": "ipython",
    "version": 3
   },
   "file_extension": ".py",
   "mimetype": "text/x-python",
   "name": "python",
   "nbconvert_exporter": "python",
   "pygments_lexer": "ipython3",
   "version": "3.8.12"
  }
 },
 "nbformat": 4,
 "nbformat_minor": 5
}
